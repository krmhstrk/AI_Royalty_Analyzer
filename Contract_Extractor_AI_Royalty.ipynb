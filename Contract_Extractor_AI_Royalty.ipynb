{
  "nbformat": 4,
  "nbformat_minor": 0,
  "metadata": {
    "colab": {
      "provenance": []
    },
    "kernelspec": {
      "name": "python3",
      "display_name": "Python 3"
    },
    "language_info": {
      "name": "python"
    }
  },
  "cells": [
    {
      "cell_type": "code",
      "source": [
        "# English: In a production environment, the OpenAI Python library would be installed here.\n",
        "# English: For this portfolio version, which demonstrates the concept without live API calls,\n",
        "# English: this step is commented out. The 'openai' library is not strictly needed for mock responses.\n",
        "# !pip install openai\n",
        "\n",
        "# Deutsch: In einer Produktionsumgebung würde hier die OpenAI Python-Bibliothek installiert werden.\n",
        "# Deutsch: Für diese Portfolio-Version, die das Konzept ohne Live-API-Aufrufe demonstriert,\n",
        "# Deutsch: ist dieser Schritt auskommentiert. Die 'openai'-Bibliothek wird für Mock-Antworten nicht zwingend benötigt.\n",
        "\n",
        "print(\"INFO: OpenAI library installation would occur here in a live API version.\")\n",
        "print(\"INFO: For this mock version, it's not strictly necessary if we don't use any openai specific objects.\")"
      ],
      "metadata": {
        "colab": {
          "base_uri": "https://localhost:8080/"
        },
        "id": "z_ypuKFgGN6l",
        "outputId": "82831795-0b80-412f-9f4e-5e1db5bc5308"
      },
      "execution_count": 6,
      "outputs": [
        {
          "output_type": "stream",
          "name": "stdout",
          "text": [
            "INFO: OpenAI library installation would occur here in a live API version.\n",
            "INFO: For this mock version, it's not strictly necessary if we don't use any openai specific objects.\n"
          ]
        }
      ]
    },
    {
      "cell_type": "code",
      "source": [
        "# English: Import necessary libraries. 'json' can be useful for structuring or loading mock data.\n",
        "# Deutsch: Notwendige Bibliotheken importieren. 'json' kann nützlich sein, um Mock-Daten zu strukturieren oder zu laden.\n",
        "import json\n",
        "\n",
        "# English: Define mock (simulated) responses that mimic AI output for different queries.\n",
        "# English: These are structured as Python dictionaries.\n",
        "# Deutsch: Definiere Mock- (simulierte) Antworten, die die KI-Ausgabe für verschiedene Abfragen nachahmen.\n",
        "# Deutsch: Diese sind als Python-Dictionaries strukturiert.\n",
        "MOCK_RESPONSES = {\n",
        "    \"prompt_royalty_rates\": {\n",
        "        \"extracted_rates\": [\n",
        "            {\"type\": \"Mechanical\", \"rate_percentage\": 50, \"territory\": \"United States\", \"basis\": \"Net Receipts\"},\n",
        "            {\"type\": \"Mechanical\", \"rate_percentage\": 40, \"territory\": \"Ex-US\", \"basis\": \"Net Receipts\", \"note\": \"Japan sub-publishing: 35%\"},\n",
        "            {\"type\": \"Synchronization (Film/TV)\", \"rate_percentage\": 60, \"territory\": \"Worldwide\", \"basis\": \"Gross Fees\"},\n",
        "            {\"type\": \"Synchronization (Commercials)\", \"rate_percentage\": 50, \"territory\": \"Worldwide\", \"basis\": \"Gross Fees\"}\n",
        "        ],\n",
        "        \"summary_en\": \"Extracted various royalty rates including mechanical and synchronization.\",\n",
        "        \"summary_de\": \"Verschiedene Lizenzsätze extrahiert, einschließlich mechanischer und Synchronisationslizenzen.\"\n",
        "    },\n",
        "    \"prompt_payment_periods\": {\n",
        "        \"frequency\": \"Quarterly\",\n",
        "        \"due_date_condition\": \"Within forty-five (45) days following the end of each calendar quarter.\",\n",
        "        \"summary_en\": \"Payment periods are contractually set to quarterly.\",\n",
        "        \"summary_de\": \"Zahlungsperioden sind vertraglich auf vierteljährlich festgelegt.\"\n",
        "    },\n",
        "    \"prompt_minimum_guarantee\": {\n",
        "        \"amount_usd\": 5000,\n",
        "        \"currency\": \"USD\",\n",
        "        \"recoupable\": True,\n",
        "        \"payable_condition\": \"Upon execution of this agreement.\",\n",
        "        \"summary_en\": \"A recoupable minimum guarantee of $5,000 USD is specified.\",\n",
        "        \"summary_de\": \"Eine rückzahlbare Mindestgarantie von 5.000 USD ist festgelegt.\"\n",
        "    },\n",
        "    \"prompt_territorial_rights\": {\n",
        "        \"overall_territory\": \"Worldwide\",\n",
        "        \"exceptions_notes\": \"Sub-publishing in Japan for mechanicals has a specific rate.\",\n",
        "        \"summary_en\": \"Territorial rights are worldwide with a specific note regarding Japan.\",\n",
        "        \"summary_de\": \"Territoriale Rechte sind weltweit mit einem spezifischen Hinweis bezüglich Japan.\"\n",
        "    },\n",
        "    \"prompt_special_conditions\": {\n",
        "        \"conditions_list\": [\n",
        "            \"Audit Rights: Writer may audit Publisher's books once per year.\",\n",
        "            \"Cover Song Rate Change: If the Composition is covered by a major recording artist (defined as selling over 1 million units), Writer's mechanical royalty rate for that specific cover version shall increase to 55% in the US.\",\n",
        "            \"Agreement Term: Initial period of three (3) years.\"\n",
        "        ],\n",
        "        \"summary_en\": \"Several special conditions including audit rights, term length, and potential rate changes were identified.\",\n",
        "        \"summary_de\": \"Mehrere Sonderbedingungen, einschließlich Auditrechten, Laufzeit und potenziellen Satzänderungen, wurden identifiziert.\"\n",
        "    }\n",
        "}\n",
        "\n",
        "# English: This function simulates fetching information from a contract using a specific prompt key.\n",
        "# English: In a real-world scenario, this function would interact with the OpenAI API.\n",
        "# English: Here, it simply retrieves a predefined mock response based on the 'prompt_key'.\n",
        "# Deutsch: Diese Funktion simuliert das Abrufen von Informationen aus einem Vertrag unter Verwendung eines bestimmten Prompt-Schlüssels.\n",
        "# Deutsch: In einem realen Szenario würde diese Funktion mit der OpenAI-API interagieren.\n",
        "# Deutsch: Hier ruft sie einfach eine vordefinierte Mock-Antwort basierend auf dem 'prompt_key' ab.\n",
        "def get_simulated_contract_info(prompt_key):\n",
        "    print(f\"\\n--- Simulating AI analysis for: {prompt_key.replace('prompt_', '').replace('_', ' ').title()} ---\")\n",
        "    if prompt_key in MOCK_RESPONSES:\n",
        "        # English: Returning the structured mock response (Python dictionary).\n",
        "        # Deutsch: Rückgabe der strukturierten Mock-Antwort (Python-Dictionary).\n",
        "        return MOCK_RESPONSES[prompt_key]\n",
        "    else:\n",
        "        # English: Return an error-like structure if the prompt_key is not found.\n",
        "        # Deutsch: Rückgabe einer fehlerähnlichen Struktur, falls der prompt_key nicht gefunden wird.\n",
        "        error_summary_en = f\"No mock response defined for key '{prompt_key}'.\"\n",
        "        error_summary_de = f\"Keine Mock-Antwort für Schlüssel '{prompt_key}' definiert.\"\n",
        "        return {\n",
        "            \"error\": True,\n",
        "            \"summary_en\": error_summary_en,\n",
        "            \"summary_de\": error_summary_de,\n",
        "            \"details_en\": \"Please check if the prompt_key matches one of the keys in MOCK_RESPONSES.\",\n",
        "            \"details_de\": \"Bitte überprüfen Sie, ob der prompt_key mit einem der Schlüssel in MOCK_RESPONSES übereinstimmt.\"\n",
        "        }\n",
        "\n",
        "print(\"INFO: Mock response data and simulation function are now defined.\")\n",
        "print(\"INFO: Die Mock-Antwortdaten und die Simulationsfunktion sind jetzt definiert.\")"
      ],
      "metadata": {
        "colab": {
          "base_uri": "https://localhost:8080/"
        },
        "id": "AQO-ZSqvGigl",
        "outputId": "353607a5-4db7-40d3-9214-306f3cd19145"
      },
      "execution_count": 7,
      "outputs": [
        {
          "output_type": "stream",
          "name": "stdout",
          "text": [
            "INFO: Mock response data and simulation function are now defined.\n",
            "INFO: Die Mock-Antwortdaten und die Simulationsfunktion sind jetzt definiert.\n"
          ]
        }
      ]
    },
    {
      "cell_type": "code",
      "source": [
        "# English: Sample license agreement text.\n",
        "# English: In a real application, this text could be loaded from an uploaded file or a direct user input.\n",
        "# English: For this mock version, the actual content of this text does not directly influence the mock output,\n",
        "# English: as the 'get_simulated_contract_info' function uses predefined responses.\n",
        "# English: However, it's included to represent the type of document that would typically be analyzed.\n",
        "\n",
        "# Deutsch: Beispieltext für einen Lizenzvertrag.\n",
        "# Deutsch: In einer realen Anwendung könnte dieser Text aus einer hochgeladenen Datei oder einer direkten Benutzereingabe geladen werden.\n",
        "# Deutsch: Für diese Mock-Version beeinflusst der tatsächliche Inhalt dieses Textes die Mock-Ausgabe nicht direkt,\n",
        "# Deutsch: da die Funktion 'get_simulated_contract_info' vordefinierte Antworten verwendet.\n",
        "# Deutsch: Er ist jedoch enthalten, um die Art des Dokuments darzustellen, das typischerweise analysiert würde.\n",
        "\n",
        "sample_contract_text = \"\"\"\n",
        "AGREEMENT FOR MUSICAL COMPOSITION\n",
        "Date: January 15, 2025\n",
        "\n",
        "PARTIES:\n",
        "This agreement is made between Starlight Music Publishing Inc., a company incorporated in Delaware, USA, with its principal office at 123 Music Row, Nashville, TN, USA (\"Publisher\") AND Nova Songwriter, an individual residing at 456 Melody Lane, Los Angeles, CA, USA (\"Writer\").\n",
        "\n",
        "BACKGROUND:\n",
        "The Writer has created a musical composition currently titled \"Celestial Echoes\" (\"Composition\").\n",
        "The Publisher wishes to obtain certain rights in the Composition, and the Writer is willing to grant such rights, subject to the terms and conditions set forth in this agreement.\n",
        "\n",
        "TERMS AND CONDITIONS:\n",
        "\n",
        "1. Grant of Rights:\n",
        "   1.1. The Writer hereby grants to the Publisher the exclusive, worldwide right, license, and privilege during the Term (as defined below) to administer, exploit, publish, and otherwise deal in and with the Composition.\n",
        "   1.2. This includes, without limitation, the right to print, reprint, publish, vend, sell, distribute, and perform the Composition, and to license others to do so.\n",
        "\n",
        "2. Royalty Rates:\n",
        "   2.1. Mechanical Royalties: The Publisher shall pay to the Writer fifty percent (50%) of all net sums actually earned and received by the Publisher in the United States from the exploitation of mechanical reproduction rights in the Composition. For territories outside the United States (Ex-US), the Writer's share shall be forty percent (40%) of net sums. A special rate of thirty-five percent (35%) shall apply to net sums earned from sub-publishing activities in Japan.\n",
        "   2.2. Performance Royalties: The Writer acknowledges that their writer's share of public performance royalties shall be collected directly by the Writer from their applicable Performing Rights Organization (PRO). The Publisher shall be entitled to collect its publisher's share.\n",
        "   2.3. Synchronization Fees: For the use of the Composition in synchronization with visual media (e.g., films, television programs, commercials), the Publisher shall pay to the Writer:\n",
        "        (a) Sixty percent (60%) of the gross fees received by the Publisher for uses in films and television programs.\n",
        "        (b) Fifty percent (50%) of the gross fees received by the Publisher for uses in commercials.\n",
        "\n",
        "3. Payment Periods and Accounting:\n",
        "   3.1. The Publisher shall account to the Writer on a quarterly basis, within forty-five (45) days following the end of each calendar quarter (i.e., March 31st, June 30th, September 30th, and December 31st of each year).\n",
        "   3.2. Each accounting statement shall be accompanied by payment of any sums thereby shown to be due to the Writer.\n",
        "\n",
        "4. Minimum Guarantee (Advance):\n",
        "   4.1. Upon execution of this agreement, the Publisher shall pay to the Writer a one-time, non-refundable sum of Five Thousand US Dollars ($5,000.00) as an advance against royalties payable to the Writer hereunder (\"Advance\").\n",
        "   4.2. The Advance shall be recoupable by the Publisher from any and all royalties otherwise becoming payable to the Writer pursuant to this agreement.\n",
        "\n",
        "5. Term of Agreement:\n",
        "   5.1. The initial term of this agreement (\"Initial Term\") shall commence on the date hereof and shall continue for a period of three (3) years.\n",
        "\n",
        "6. Territory:\n",
        "   6.1. The rights granted to the Publisher under this agreement shall be for the entire world (\"Territory\").\n",
        "\n",
        "7. Special Conditions:\n",
        "   7.1. Audit Rights: The Writer, or a certified public accountant on their behalf, shall have the right, once in each calendar year, upon at least thirty (30) days' written notice to the Publisher, to inspect the books and records of the Publisher, during the Publisher's usual business hours, but only insofar as they relate to the Composition and royalties due to the Writer.\n",
        "   7.2. Cover Version Rate Adjustment: Should the Composition be recorded as a \"cover version\" by a \"Major Recording Artist\" (defined as an artist or group whose album has achieved certified sales of over one million (1,000,000) units in the United States according to Recording Industry Association of America (RIAA) or equivalent), the Writer's share of mechanical royalties for that specific cover version sold in the United States shall be increased to fifty-five percent (55%).\n",
        "\n",
        "IN WITNESS WHEREOF, the parties have executed this agreement as of the date first written above.\n",
        "\"\"\"\n",
        "\n",
        "print(\"INFO: Sample contract text is now defined for context (though not directly processed by mock function).\")\n",
        "print(\"INFO: Der Beispielvertragstext ist jetzt für den Kontext definiert (obwohl er nicht direkt von der Mock-Funktion verarbeitet wird).\")"
      ],
      "metadata": {
        "colab": {
          "base_uri": "https://localhost:8080/"
        },
        "id": "TU_Rj-IAG9ZH",
        "outputId": "544364c2-f885-4d02-b384-2cacb416e018"
      },
      "execution_count": 8,
      "outputs": [
        {
          "output_type": "stream",
          "name": "stdout",
          "text": [
            "INFO: Sample contract text is now defined for context (though not directly processed by mock function).\n",
            "INFO: Der Beispielvertragstext ist jetzt für den Kontext definiert (obwohl er nicht direkt von der Mock-Funktion verarbeitet wird).\n"
          ]
        }
      ]
    },
    {
      "cell_type": "code",
      "source": [
        "# English: \"Extract\" and display information for each category using the simulation function.\n",
        "# English: The function 'get_simulated_contract_info' returns a dictionary,\n",
        "# English: and we access its elements by keys (e.g., 'summary_en', 'extracted_rates').\n",
        "# Deutsch: \"Extrahieren\" und Anzeigen von Informationen für jede Kategorie unter Verwendung der Simulationsfunktion.\n",
        "# Deutsch: Die Funktion 'get_simulated_contract_info' gibt ein Dictionary zurück,\n",
        "# Deutsch: und wir greifen auf dessen Elemente über Schlüssel zu (z.B. 'summary_de', 'extracted_rates').\n",
        "\n",
        "# --- 1. Royalty Rates ---\n",
        "royalty_rates_data = get_simulated_contract_info(\"prompt_royalty_rates\")\n",
        "print(royalty_rates_data.get(\"summary_en\", \"No English summary available.\")) # Using .get() is safer to avoid errors if a key is missing\n",
        "# print(royalty_rates_data.get(\"summary_de\", \"Keine deutsche Zusammenfassung verfügbar.\")) # Optional: German summary\n",
        "if \"extracted_rates\" in royalty_rates_data:\n",
        "    for rate_info in royalty_rates_data[\"extracted_rates\"]:\n",
        "        print(f\"  - Type: {rate_info.get('type')}, Rate: {rate_info.get('rate_percentage')}%, Territory: {rate_info.get('territory')}, Basis: {rate_info.get('basis')}\" + (f\", Note: {rate_info['note']}\" if 'note' in rate_info else \"\"))\n",
        "\n",
        "# --- 2. Payment Periods ---\n",
        "payment_periods_data = get_simulated_contract_info(\"prompt_payment_periods\")\n",
        "print(payment_periods_data.get(\"summary_en\", \"No English summary available.\"))\n",
        "# print(payment_periods_data.get(\"summary_de\", \"Keine deutsche Zusammenfassung verfügbar.\"))\n",
        "if not payment_periods_data.get(\"error\"): # Check if there's no error key, or if error is False\n",
        "    print(f\"  - Frequency: {payment_periods_data.get('frequency')}\")\n",
        "    print(f\"  - Due Date Condition: {payment_periods_data.get('due_date_condition')}\")\n",
        "\n",
        "# --- 3. Minimum Guarantee ---\n",
        "min_guarantee_data = get_simulated_contract_info(\"prompt_minimum_guarantee\")\n",
        "print(min_guarantee_data.get(\"summary_en\", \"No English summary available.\"))\n",
        "# print(min_guarantee_data.get(\"summary_de\", \"Keine deutsche Zusammenfassung verfügbar.\"))\n",
        "if not min_guarantee_data.get(\"error\"):\n",
        "    print(f\"  - Amount: {min_guarantee_data.get('amount_usd')} {min_guarantee_data.get('currency')}\")\n",
        "    print(f\"  - Recoupable: {min_guarantee_data.get('recoupable')}\")\n",
        "    print(f\"  - Payable Condition: {min_guarantee_data.get('payable_condition')}\")\n",
        "\n",
        "# --- 4. Territorial Rights ---\n",
        "territorial_rights_data = get_simulated_contract_info(\"prompt_territorial_rights\")\n",
        "print(territorial_rights_data.get(\"summary_en\", \"No English summary available.\"))\n",
        "# print(territorial_rights_data.get(\"summary_de\", \"Keine deutsche Zusammenfassung verfügbar.\"))\n",
        "if not territorial_rights_data.get(\"error\"):\n",
        "    print(f\"  - Overall Territory: {territorial_rights_data.get('overall_territory')}\")\n",
        "    print(f\"  - Exceptions/Notes: {territorial_rights_data.get('exceptions_notes')}\")\n",
        "\n",
        "# --- 5. Special Conditions ---\n",
        "special_conditions_data = get_simulated_contract_info(\"prompt_special_conditions\")\n",
        "print(special_conditions_data.get(\"summary_en\", \"No English summary available.\"))\n",
        "# print(special_conditions_data.get(\"summary_de\", \"Keine deutsche Zusammenfassung verfügbar.\"))\n",
        "if \"conditions_list\" in special_conditions_data:\n",
        "    for condition in special_conditions_data[\"conditions_list\"]:\n",
        "        print(f\"  - {condition}\")\n",
        "\n",
        "print(\"\\n\\n--- Portfolio Display Note ---\")\n",
        "print(\"English: The outputs above are generated from predefined mock data structures within this notebook.\")\n",
        "print(\"English: This simulates how an AI model would parse a contract and return structured information based on specific prompts.\")\n",
        "print(\"English: In a live production system, the 'get_simulated_contract_info' function would be replaced with actual calls to an AI API (e.g., OpenAI GPT).\")\n",
        "print(\"Deutsch: Die obigen Ausgaben werden aus vordefinierten Mock-Datenstrukturen innerhalb dieses Notebooks generiert.\")\n",
        "print(\"Deutsch: Dies simuliert, wie ein KI-Modell einen Vertrag parsen und strukturierte Informationen basierend auf spezifischen Prompts zurückgeben würde.\")\n",
        "print(\"Deutsch: In einem live Produktionssystem würde die Funktion 'get_simulated_contract_info' durch tatsächliche Aufrufe einer KI-API (z.B. OpenAI GPT) ersetzt werden.\")"
      ],
      "metadata": {
        "colab": {
          "base_uri": "https://localhost:8080/"
        },
        "id": "V4G4i1HvHFy1",
        "outputId": "d9b2a7c1-42b8-4c56-e84c-fe280faa2175"
      },
      "execution_count": 9,
      "outputs": [
        {
          "output_type": "stream",
          "name": "stdout",
          "text": [
            "\n",
            "--- Simulating AI analysis for: Royalty Rates ---\n",
            "Extracted various royalty rates including mechanical and synchronization.\n",
            "  - Type: Mechanical, Rate: 50%, Territory: United States, Basis: Net Receipts\n",
            "  - Type: Mechanical, Rate: 40%, Territory: Ex-US, Basis: Net Receipts, Note: Japan sub-publishing: 35%\n",
            "  - Type: Synchronization (Film/TV), Rate: 60%, Territory: Worldwide, Basis: Gross Fees\n",
            "  - Type: Synchronization (Commercials), Rate: 50%, Territory: Worldwide, Basis: Gross Fees\n",
            "\n",
            "--- Simulating AI analysis for: Payment Periods ---\n",
            "Payment periods are contractually set to quarterly.\n",
            "  - Frequency: Quarterly\n",
            "  - Due Date Condition: Within forty-five (45) days following the end of each calendar quarter.\n",
            "\n",
            "--- Simulating AI analysis for: Minimum Guarantee ---\n",
            "A recoupable minimum guarantee of $5,000 USD is specified.\n",
            "  - Amount: 5000 USD\n",
            "  - Recoupable: True\n",
            "  - Payable Condition: Upon execution of this agreement.\n",
            "\n",
            "--- Simulating AI analysis for: Territorial Rights ---\n",
            "Territorial rights are worldwide with a specific note regarding Japan.\n",
            "  - Overall Territory: Worldwide\n",
            "  - Exceptions/Notes: Sub-publishing in Japan for mechanicals has a specific rate.\n",
            "\n",
            "--- Simulating AI analysis for: Special Conditions ---\n",
            "Several special conditions including audit rights, term length, and potential rate changes were identified.\n",
            "  - Audit Rights: Writer may audit Publisher's books once per year.\n",
            "  - Cover Song Rate Change: If the Composition is covered by a major recording artist (defined as selling over 1 million units), Writer's mechanical royalty rate for that specific cover version shall increase to 55% in the US.\n",
            "  - Agreement Term: Initial period of three (3) years.\n",
            "\n",
            "\n",
            "--- Portfolio Display Note ---\n",
            "English: The outputs above are generated from predefined mock data structures within this notebook.\n",
            "English: This simulates how an AI model would parse a contract and return structured information based on specific prompts.\n",
            "English: In a live production system, the 'get_simulated_contract_info' function would be replaced with actual calls to an AI API (e.g., OpenAI GPT).\n",
            "Deutsch: Die obigen Ausgaben werden aus vordefinierten Mock-Datenstrukturen innerhalb dieses Notebooks generiert.\n",
            "Deutsch: Dies simuliert, wie ein KI-Modell einen Vertrag parsen und strukturierte Informationen basierend auf spezifischen Prompts zurückgeben würde.\n",
            "Deutsch: In einem live Produktionssystem würde die Funktion 'get_simulated_contract_info' durch tatsächliche Aufrufe einer KI-API (z.B. OpenAI GPT) ersetzt werden.\n"
          ]
        }
      ]
    }
  ]
}